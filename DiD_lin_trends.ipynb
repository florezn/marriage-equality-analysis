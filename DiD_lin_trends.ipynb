{
 "cells": [
  {
   "cell_type": "markdown",
   "metadata": {},
   "source": [
    "## DiD with state-specific linear time trends analysis\n",
    "\n",
    "In this section I perform a two-way fixed effects with state-specific linear trends analysis for all data and court-decision data only."
   ]
  },
  {
   "cell_type": "code",
   "execution_count": 1,
   "metadata": {},
   "outputs": [],
   "source": [
    "%load_ext rpy2.ipython\n",
    "import numpy as np\n",
    "import pandas as pd\n",
    "import statsmodels.api as sm\n",
    "import scipy.stats as stats\n",
    "\n",
    "## Loading finalized datasets\n",
    "data18 = pd.read_csv('weighted_suicides.csv')\n",
    "court18 = pd.read_csv('court_data.csv')"
   ]
  },
  {
   "cell_type": "markdown",
   "metadata": {},
   "source": [
    "#### DiD with state-specific linear time trends analysis set up\n",
    "\n",
    "The following sets up a difference-in-difference analysis with state-specific linear time trends for all data and court-decision only data. This notebook expands on notebook 3: [DiD analysis](https://github.com/florezn/marriage-equality-analysis/blob/master/DiD_Analysis.ipynb) so that the main differences are the  `get_lin_trends()` function as well as the option to add linear trends in `did_model()`. `get_lin_trends()` creates state-specific linear time trends by multiplying state dummy variables with a continuous `Year` vector that contains values 1 to the length of time period (15 or 16 depending on whether lag of log unemployment variable is included in the model), inclusive. `lin_trends` option added to `did_model()` adds the linear time trends to the explanatory matrix when `lin_trends` argument is specified as `True`. The same procedure remains as in notebook 3 such that the analysis constitutes 7 different functions and 4 tables summarizing results.\n",
    "\n",
    "Results for all data with unweighted observations, all data with weighted observations, court-only data with unweighted observations, and court-only data with weighted observations are outputted in Tables V - VIII, respectively.\n"
   ]
  },
  {
   "cell_type": "code",
   "execution_count": 6,
   "metadata": {
    "collapsed": true
   },
   "outputs": [],
   "source": [
    "def get_lin_trends(data):\n",
    "    \n",
    "    State_dum = pd.get_dummies(data['State'])\n",
    "    \n",
    "    ##Creating state-specific linear time trends matrix\n",
    "    Years = data.Year - (min(data.Year) - 1)\n",
    "    lin_trends = (State_dum.transpose() * Years.values).transpose()\n",
    "    \n",
    "    #Setting up column names so that state dummies and linear trends variables\n",
    "    #do not have the same column name\n",
    "    l = []\n",
    "    for state in data.State.unique():\n",
    "        l.append(state + \"_lintrend\")\n",
    "                 \n",
    "    lin_trends.columns = l\n",
    "    \n",
    "    return  lin_trends"
   ]
  },
  {
   "cell_type": "code",
   "execution_count": 7,
   "metadata": {},
   "outputs": [],
   "source": [
    "def did_model(data, regressors, lagged=False, lin_trends=False, weighted=False):\n",
    "    X = data[regressors]\n",
    "    State_dum = pd.get_dummies(data['State'])\n",
    "    Year_dum = pd.get_dummies(data['Year'])\n",
    "    \n",
    "    if weighted:\n",
    "        y = data.weighted_lnrate\n",
    "    else:\n",
    "        y = data.lnrate\n",
    "        \n",
    "    if lagged:\n",
    "        Year_dum = Year_dum.drop(1999, axis = 1)\n",
    "        X = X.dropna(axis = 0, how = 'any')\n",
    "        y = y[data.Year != 1999]\n",
    "        \n",
    "    if lin_trends and lagged:\n",
    "        trends = get_lin_trends(data[data.Year != 1999])\n",
    "        X = X.join([Year_dum, State_dum, trends])\n",
    "    elif lin_trends:\n",
    "        trends = get_lin_trends(data)\n",
    "        X = X.join([Year_dum, State_dum, trends])\n",
    "    else:            \n",
    "        X = X.join([Year_dum, State_dum])\n",
    "                           \n",
    "    return sm.OLS(y, X)\n",
    "\n",
    "def cluster_robust_se(data, model, lagged=False):\n",
    "    lag = int(lagged)\n",
    "        \n",
    "    cluster = np.array(range(len(data.State.unique())) * (len(data.Year.unique()) - lag))\n",
    "    cluster.sort()\n",
    "    \n",
    "    cov_clus = sm.stats.sandwich_covariance.cov_cluster(model, cluster, use_correction = True)\n",
    "    se_clus_robust = sm.stats.sandwich_covariance.se_cov(cov_clus)\n",
    "   \n",
    "    return se_clus_robust\n",
    "\n",
    "def p_val_clus_robust(model, se_clus_robust):\n",
    "    p = stats.t.sf(np.abs(model.params / se_clus_robust), model.df_resid - 1) * 2\n",
    "    \n",
    "    return p\n",
    "\n",
    "##Creating coefficient table with cluster robust standard errors and p-values for treatment variable by model\n",
    "def model_table_results(model, se, p):\n",
    "    d = {'Coefficient': pd.Series(model.params.index),\n",
    "         'Estimate': pd.Series(model.params.values),\n",
    "         'Cluster_Robust SE': pd.Series(se),\n",
    "         'p-value': pd.Series(p)}\n",
    "    \n",
    "    return pd.DataFrame(d)[['Coefficient', 'Estimate', 'Cluster_Robust SE', 'p-value']]"
   ]
  },
  {
   "cell_type": "code",
   "execution_count": 8,
   "metadata": {},
   "outputs": [],
   "source": [
    "def run(data, regressors, lagged=False, lin_trends=False):\n",
    "    \n",
    "    model = did_model(data, regressors, lagged, lin_trends).fit()\n",
    "    wmodel = did_model(data, regressors, lagged, lin_trends, weighted = True).fit()\n",
    "    \n",
    "    model_clus_se = cluster_robust_se(data, model, lagged)\n",
    "    wmodel_clus_se = cluster_robust_se(data, wmodel, lagged)\n",
    "    \n",
    "    p = p_val_clus_robust(model, model_clus_se)\n",
    "    wp = p_val_clus_robust(wmodel, wmodel_clus_se)\n",
    "    \n",
    "    table = model_table_results(model, model_clus_se, p)\n",
    "    wtable = model_table_results(wmodel, wmodel_clus_se, wp)\n",
    "    \n",
    "    return table, wtable"
   ]
  },
  {
   "cell_type": "code",
   "execution_count": 9,
   "metadata": {},
   "outputs": [],
   "source": [
    "reg_lin0, wreg_lin0 = run(data18, ['Treatment'], lin_trends = True)\n",
    "reg_lin1, wreg_lin1 = run(data18, ['Treatment', 'lnunemp'], lin_trends = True)\n",
    "reg_lin2, wreg_lin2 = run(data18, ['Treatment', 'lnunemp', 'lnunemp_lag'], lagged = True, lin_trends = True)\n",
    "reg_lin3, wreg_lin3 = run(data18, ['Treatment', 'lnunemp', 'lninc_cap'], lin_trends = True)\n",
    "reg_lin4, wreg_lin4 = run(data18, ['Treatment', 'lnunemp', 'lninc_cap', 'lnunemp_lag'], lagged = True, lin_trends = True)"
   ]
  },
  {
   "cell_type": "code",
   "execution_count": 10,
   "metadata": {},
   "outputs": [],
   "source": [
    "court_lin0, wcourt_lin0 = run(court18, ['Treatment'], lin_trends = True)\n",
    "court_lin1, wcourt_lin1 = run(court18, ['Treatment', 'lnunemp'], lin_trends = True)\n",
    "court_lin2, wcourt_lin2 = run(court18, ['Treatment', 'lnunemp', 'lnunemp_lag'], lagged = True, lin_trends = True)\n",
    "court_lin3, wcourt_lin3 = run(court18, ['Treatment', 'lnunemp', 'lninc_cap'], lin_trends = True)\n",
    "court_lin4, wcourt_lin4 = run(court18, ['Treatment', 'lnunemp', 'lninc_cap', 'lnunemp_lag'], lagged = True, lin_trends = True)"
   ]
  },
  {
   "cell_type": "code",
   "execution_count": 11,
   "metadata": {
    "collapsed": true
   },
   "outputs": [],
   "source": [
    "def aggregate_models(model_list):\n",
    "    \n",
    "    model_index = ['Model 0', 'Model 1', 'Model 2', 'Model 3', 'Model 4']\n",
    "    \n",
    "    estimates = []\n",
    "    std_errors = []\n",
    "    p_vals = []\n",
    "\n",
    "    for model in model_list:\n",
    "        estimates.append(model.Estimate[0])\n",
    "        std_errors.append(model['Cluster_Robust SE'][0])\n",
    "        p_vals.append(model['p-value'][0])\n",
    "    \n",
    "    d = {'Treatment Coeff Estimate': pd.Series(estimates, index = model_index),\n",
    "         'Cluster_Robust SE': pd.Series(std_errors, index = model_index),\n",
    "         'p-value': pd.Series(p_vals, index = model_index)}\n",
    "    \n",
    "    return pd.DataFrame(d)[['Treatment Coeff Estimate', 'Cluster_Robust SE', 'p-value']]"
   ]
  },
  {
   "cell_type": "code",
   "execution_count": 12,
   "metadata": {
    "scrolled": false
   },
   "outputs": [
    {
     "data": {
      "text/html": [
       "<div>\n",
       "<table border=\"1\" class=\"dataframe\">\n",
       "  <thead>\n",
       "    <tr style=\"text-align: right;\">\n",
       "      <th></th>\n",
       "      <th>Treatment Coeff Estimate</th>\n",
       "      <th>Cluster_Robust SE</th>\n",
       "      <th>p-value</th>\n",
       "    </tr>\n",
       "  </thead>\n",
       "  <tbody>\n",
       "    <tr>\n",
       "      <th>Model 0</th>\n",
       "      <td>-0.095085</td>\n",
       "      <td>0.045111</td>\n",
       "      <td>0.035412</td>\n",
       "    </tr>\n",
       "    <tr>\n",
       "      <th>Model 1</th>\n",
       "      <td>-0.098096</td>\n",
       "      <td>0.044701</td>\n",
       "      <td>0.028537</td>\n",
       "    </tr>\n",
       "    <tr>\n",
       "      <th>Model 2</th>\n",
       "      <td>-0.071302</td>\n",
       "      <td>0.042618</td>\n",
       "      <td>0.094811</td>\n",
       "    </tr>\n",
       "    <tr>\n",
       "      <th>Model 3</th>\n",
       "      <td>-0.097881</td>\n",
       "      <td>0.044638</td>\n",
       "      <td>0.028662</td>\n",
       "    </tr>\n",
       "    <tr>\n",
       "      <th>Model 4</th>\n",
       "      <td>-0.071265</td>\n",
       "      <td>0.042661</td>\n",
       "      <td>0.095313</td>\n",
       "    </tr>\n",
       "  </tbody>\n",
       "</table>\n",
       "</div>"
      ],
      "text/plain": [
       "         Treatment Coeff Estimate  Cluster_Robust SE   p-value\n",
       "Model 0                 -0.095085           0.045111  0.035412\n",
       "Model 1                 -0.098096           0.044701  0.028537\n",
       "Model 2                 -0.071302           0.042618  0.094811\n",
       "Model 3                 -0.097881           0.044638  0.028662\n",
       "Model 4                 -0.071265           0.042661  0.095313"
      ]
     },
     "execution_count": 12,
     "metadata": {},
     "output_type": "execute_result"
    }
   ],
   "source": [
    "#Table V: Unweighted observations with all data\n",
    "aggregate_models([reg_lin0, reg_lin1, reg_lin2, reg_lin3, reg_lin4])"
   ]
  },
  {
   "cell_type": "code",
   "execution_count": 13,
   "metadata": {},
   "outputs": [
    {
     "data": {
      "text/html": [
       "<div>\n",
       "<table border=\"1\" class=\"dataframe\">\n",
       "  <thead>\n",
       "    <tr style=\"text-align: right;\">\n",
       "      <th></th>\n",
       "      <th>Treatment Coeff Estimate</th>\n",
       "      <th>Cluster_Robust SE</th>\n",
       "      <th>p-value</th>\n",
       "    </tr>\n",
       "  </thead>\n",
       "  <tbody>\n",
       "    <tr>\n",
       "      <th>Model 0</th>\n",
       "      <td>-0.002452</td>\n",
       "      <td>0.001203</td>\n",
       "      <td>0.041934</td>\n",
       "    </tr>\n",
       "    <tr>\n",
       "      <th>Model 1</th>\n",
       "      <td>-0.002547</td>\n",
       "      <td>0.001244</td>\n",
       "      <td>0.041044</td>\n",
       "    </tr>\n",
       "    <tr>\n",
       "      <th>Model 2</th>\n",
       "      <td>-0.001832</td>\n",
       "      <td>0.001342</td>\n",
       "      <td>0.172715</td>\n",
       "    </tr>\n",
       "    <tr>\n",
       "      <th>Model 3</th>\n",
       "      <td>-0.002543</td>\n",
       "      <td>0.001242</td>\n",
       "      <td>0.040904</td>\n",
       "    </tr>\n",
       "    <tr>\n",
       "      <th>Model 4</th>\n",
       "      <td>-0.001830</td>\n",
       "      <td>0.001341</td>\n",
       "      <td>0.173044</td>\n",
       "    </tr>\n",
       "  </tbody>\n",
       "</table>\n",
       "</div>"
      ],
      "text/plain": [
       "         Treatment Coeff Estimate  Cluster_Robust SE   p-value\n",
       "Model 0                 -0.002452           0.001203  0.041934\n",
       "Model 1                 -0.002547           0.001244  0.041044\n",
       "Model 2                 -0.001832           0.001342  0.172715\n",
       "Model 3                 -0.002543           0.001242  0.040904\n",
       "Model 4                 -0.001830           0.001341  0.173044"
      ]
     },
     "execution_count": 13,
     "metadata": {},
     "output_type": "execute_result"
    }
   ],
   "source": [
    "#Table VI: Weighted observations with all data\n",
    "aggregate_models([wreg_lin0, wreg_lin1, wreg_lin2, wreg_lin3, wreg_lin4])"
   ]
  },
  {
   "cell_type": "code",
   "execution_count": 14,
   "metadata": {},
   "outputs": [
    {
     "data": {
      "text/html": [
       "<div>\n",
       "<table border=\"1\" class=\"dataframe\">\n",
       "  <thead>\n",
       "    <tr style=\"text-align: right;\">\n",
       "      <th></th>\n",
       "      <th>Treatment Coeff Estimate</th>\n",
       "      <th>Cluster_Robust SE</th>\n",
       "      <th>p-value</th>\n",
       "    </tr>\n",
       "  </thead>\n",
       "  <tbody>\n",
       "    <tr>\n",
       "      <th>Model 0</th>\n",
       "      <td>-0.199562</td>\n",
       "      <td>0.061402</td>\n",
       "      <td>0.001266</td>\n",
       "    </tr>\n",
       "    <tr>\n",
       "      <th>Model 1</th>\n",
       "      <td>-0.214050</td>\n",
       "      <td>0.049197</td>\n",
       "      <td>0.000018</td>\n",
       "    </tr>\n",
       "    <tr>\n",
       "      <th>Model 2</th>\n",
       "      <td>-0.178943</td>\n",
       "      <td>0.049255</td>\n",
       "      <td>0.000326</td>\n",
       "    </tr>\n",
       "    <tr>\n",
       "      <th>Model 3</th>\n",
       "      <td>-0.225976</td>\n",
       "      <td>0.052837</td>\n",
       "      <td>0.000025</td>\n",
       "    </tr>\n",
       "    <tr>\n",
       "      <th>Model 4</th>\n",
       "      <td>-0.189325</td>\n",
       "      <td>0.052864</td>\n",
       "      <td>0.000395</td>\n",
       "    </tr>\n",
       "  </tbody>\n",
       "</table>\n",
       "</div>"
      ],
      "text/plain": [
       "         Treatment Coeff Estimate  Cluster_Robust SE   p-value\n",
       "Model 0                 -0.199562           0.061402  0.001266\n",
       "Model 1                 -0.214050           0.049197  0.000018\n",
       "Model 2                 -0.178943           0.049255  0.000326\n",
       "Model 3                 -0.225976           0.052837  0.000025\n",
       "Model 4                 -0.189325           0.052864  0.000395"
      ]
     },
     "execution_count": 14,
     "metadata": {},
     "output_type": "execute_result"
    }
   ],
   "source": [
    "#Table VII: Unweighted observations with court data\n",
    "aggregate_models([court_lin0, court_lin1, court_lin2, court_lin3, court_lin4])"
   ]
  },
  {
   "cell_type": "code",
   "execution_count": 15,
   "metadata": {},
   "outputs": [
    {
     "data": {
      "text/html": [
       "<div>\n",
       "<table border=\"1\" class=\"dataframe\">\n",
       "  <thead>\n",
       "    <tr style=\"text-align: right;\">\n",
       "      <th></th>\n",
       "      <th>Treatment Coeff Estimate</th>\n",
       "      <th>Cluster_Robust SE</th>\n",
       "      <th>p-value</th>\n",
       "    </tr>\n",
       "  </thead>\n",
       "  <tbody>\n",
       "    <tr>\n",
       "      <th>Model 0</th>\n",
       "      <td>-0.005280</td>\n",
       "      <td>0.001401</td>\n",
       "      <td>0.000192</td>\n",
       "    </tr>\n",
       "    <tr>\n",
       "      <th>Model 1</th>\n",
       "      <td>-0.005650</td>\n",
       "      <td>0.001450</td>\n",
       "      <td>0.000117</td>\n",
       "    </tr>\n",
       "    <tr>\n",
       "      <th>Model 2</th>\n",
       "      <td>-0.004965</td>\n",
       "      <td>0.001399</td>\n",
       "      <td>0.000444</td>\n",
       "    </tr>\n",
       "    <tr>\n",
       "      <th>Model 3</th>\n",
       "      <td>-0.005702</td>\n",
       "      <td>0.001431</td>\n",
       "      <td>0.000082</td>\n",
       "    </tr>\n",
       "    <tr>\n",
       "      <th>Model 4</th>\n",
       "      <td>-0.005016</td>\n",
       "      <td>0.001382</td>\n",
       "      <td>0.000331</td>\n",
       "    </tr>\n",
       "  </tbody>\n",
       "</table>\n",
       "</div>"
      ],
      "text/plain": [
       "         Treatment Coeff Estimate  Cluster_Robust SE   p-value\n",
       "Model 0                 -0.005280           0.001401  0.000192\n",
       "Model 1                 -0.005650           0.001450  0.000117\n",
       "Model 2                 -0.004965           0.001399  0.000444\n",
       "Model 3                 -0.005702           0.001431  0.000082\n",
       "Model 4                 -0.005016           0.001382  0.000331"
      ]
     },
     "execution_count": 15,
     "metadata": {},
     "output_type": "execute_result"
    }
   ],
   "source": [
    "#Table VIII: Weighted observations with court data\n",
    "aggregate_models([wcourt_lin0, wcourt_lin1, wcourt_lin2, wcourt_lin3, wcourt_lin4])"
   ]
  }
 ],
 "metadata": {
  "kernelspec": {
   "display_name": "Python 2",
   "language": "python",
   "name": "python2"
  },
  "language_info": {
   "codemirror_mode": {
    "name": "ipython",
    "version": 2
   },
   "file_extension": ".py",
   "mimetype": "text/x-python",
   "name": "python",
   "nbconvert_exporter": "python",
   "pygments_lexer": "ipython2",
   "version": "2.7.12"
  }
 },
 "nbformat": 4,
 "nbformat_minor": 1
}
