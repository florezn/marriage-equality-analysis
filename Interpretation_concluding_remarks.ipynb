{
 "cells": [
  {
   "cell_type": "markdown",
   "metadata": {},
   "source": [
    "## Interpretation and final remarks\n",
    "\n",
    "### Interpretation\n",
    "\n",
    "I will solely discuss results for weighted models, which are presented in Tables II and IV (DiD), as well as VI and VIII (DiD with linear time trends).\n",
    "\n",
    "#### DiD specification\n",
    "\n",
    "All model specifications in [Table II](https://github.com/florezn/marriage-equality-analysis/blob/master/DiD_Analysis.ipynb), which outputs a DiD model for weighted observations with all data, are significant at the 0.01 level, indicating that marriage equality, on average, is associated with a decrease of 0.00214 – 0.00239 log points, which translate to approximately 0.214 – 0.239% decrease in suicide rates. Reducing the sample to court-only decisions ([Table IV](https://github.com/florezn/marriage-equality-analysis/blob/master/DiD_Analysis.ipynb)), the DiD models estimate the average effect size to range from -0.003705 to -0.003039 log points, or a 0.303 - 0.370% decrease in suicide rates, on average. All p-values on Table IV are very small and significant at low alpha values.\n",
    "\n",
    "#### DiD with state-specific linear time trends specification\n",
    "\n",
    "Models 0, 1 and 3 in [Table VI](https://github.com/florezn/marriage-equality-analysis/blob/master/DiD_lin_trends.ipynb) are significant at the 0.05 level, but specifications 2 and 4 are not. The effect size estimate ranges from -0.00255 to -0.00183, or a decrease between 0.183 - 0.255%. It is possible that including year and state fixed effects as well as state-specific linear time trends asks too much of the data by accounting for most of variation so that collinearity is present, inflating the standard errors.\n",
    "\n",
    "For court-only decisions ([Table VIII](https://github.com/florezn/marriage-equality-analysis/blob/master/DiD_lin_trends.ipynb)), all models under this specification are significant at a cut-off probability of 0.00125, which is the threshold alpha value of utilizing a Bonferroni correction for all 40 regressions. The average treatment effects in Table VIII range between -0.00570 to -0.00497 log points. For model 4 in Table VIII, which includes all controls as well as a very strict specification, marriage equality is associated with, on average, a 0.50% decrease in suicide rates.\n",
    "\n",
    "\n",
    "#### Concluding remarks\n",
    "\n",
    "Narrowing down the sample of states to only those that legalized marriage equality by court decision increased effect size in absolute value as well as provided stronger evidence towards an effect by lowering the p-values. The surprising result aforementioned suggests that popular opinion, or other unobserved factors, influence both state suicide trends and legalization of gay marriage by popular vote or legislature. As a consequence, including state-specific linear time trends in Table VI vs. Table II decreased significance: accounting for unobserved factors such as trends in popular opinion does mitigate the treatment effects and induces collinearity. This highlights the importance of exogenous—or quasi-random—variability in the policy studied in order to estimate a true causal effect.\n",
    "\n",
    "Because DiD models with state-specific linear time trends for court decision-only data a) hinge on plausibly the most exogenous treatment variability, b) have the most strict specification, c) and contain the most consistent treatment effects, they represent the most convincing information out of all regressions. Moreover, the estimated coefficients in these models are significant even implementing a Bonferroni correction, which accounts for multiple comparisons. A Bonferroni correction is a stringent and coservative approach so that achieving significance at this level is noteworthy.\n",
    "\n",
    "The present analysis provides robust evidence that state legalization of gay marriage led to lowered suicide rates for males 18 and younger. Further, sub-setting the analysis to include only those states that passed marriage equality by court decision (likely to be more exogenous than other means) increases effect size in magnitude and lowers p-values, bolstering the analysis. Although the above results depict significant effects, aggregate suicide rates by state is a noisy measure of well-being. As such, other outcome variables should be considered in further analyses in order to improve accuracy. For example, hospital data on suicide attempt hospitalizations from various states would allow a more refined analysis. Nonetheless, the present paper strongly supports our premise: social discrimination negatively impacts the wellbeing of disadvantaged populations. This finding is paramount and acts as an avenue for acknowledgement, solidarity and reform. Thus, it is imperative for researchers to tackle these difficult questions so to shed light on these issues and lead the way towards social justice.\n"
   ]
  }
 ],
 "metadata": {
  "kernelspec": {
   "display_name": "Python 2",
   "language": "python",
   "name": "python2"
  },
  "language_info": {
   "codemirror_mode": {
    "name": "ipython",
    "version": 2
   },
   "file_extension": ".py",
   "mimetype": "text/x-python",
   "name": "python",
   "nbconvert_exporter": "python",
   "pygments_lexer": "ipython2",
   "version": "2.7.12"
  }
 },
 "nbformat": 4,
 "nbformat_minor": 1
}
