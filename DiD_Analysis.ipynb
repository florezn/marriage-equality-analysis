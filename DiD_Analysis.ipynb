{
 "cells": [
  {
   "cell_type": "markdown",
   "metadata": {},
   "source": [
    "## Differences-in-differences (DiD) analysis\n",
    "\n",
    "In this section I perform a two-way fixed effects analysis for all data and court-decision data only."
   ]
  },
  {
   "cell_type": "code",
   "execution_count": 5,
   "metadata": {
    "collapsed": true
   },
   "outputs": [],
   "source": [
    "%load_ext rpy2.ipython\n",
    "import numpy as np\n",
    "import pandas as pd\n",
    "import statsmodels.api as sm\n",
    "import scipy.stats as stats\n",
    "\n",
    "## Loading finalized datasets\n",
    "data18 = pd.read_csv('weighted_suicides.csv')\n",
    "court18 = pd.read_csv('court_data.csv')"
   ]
  },
  {
   "cell_type": "markdown",
   "metadata": {},
   "source": [
    "#### DiD analysis set up\n",
    "\n",
    "The following sets up a difference-in-difference analysis for all data and court-decision only data. I run four sets of the same five models on 1) all data with unweighted observations, 2) all data with weighted observations, 3) court-only data with unweighted observations, and 4) court-only data with weighted observations. The five models include a) no extra controls, b) log of unemployment as a control, c) log of unemployment and its lag as controls, d) log of unemployment and log of income per capita as controls, e) log of unemployment, its lag and log of income per cap as controls.\n",
    "\n",
    "The analysis constitutes 6 different functions and 4 tables summarizing results. First, `did_model()` sets up the dependent vector and regressor matrix from the data and adds two-way fixed effects. The `weighted` and `lagged` options depend on i) if model is to include weighted vs. unweighted observations and ii) whether lag of log of unemployment is included in the model. `cluster_robust_se()` clusters robust stadard errors by state. Note that cluster robust standard errors are smaller than base standad errors. This is due to the fact that standard errors are anti-correlated within a cluster so that any one observations is likely to deviate less from a random draw of the whole data than from its specific state cluster. `p_val_clus_robust()` calculates the probability of the coefficient estimate value under the null hypothesis (H0: coeff = 0) with cluster robust standard errors. `model_table_results()` creates a coefficient table with cluster robust standard errors and p-values for the treatment variable by model. `run()` calls unweighted/weighted counterparts for each model. `aggregate_models()` aggregates treatment coefficient estimate, cluster robust standard error as well as p-value for associated models.\n",
    "\n",
    "Results for all data with unweighted observations, all data with weighted observations, court-only data with unweighted observations, and court-only data with weighted observations are outputted in Tables I - IV, respectively.\n"
   ]
  },
  {
   "cell_type": "code",
   "execution_count": 56,
   "metadata": {
    "collapsed": false
   },
   "outputs": [],
   "source": [
    "def did_model(data, regressors, lagged=False, weighted=False):\n",
    "    X = data[regressors]\n",
    "    State_dum = pd.get_dummies(data['State'])\n",
    "    Year_dum = pd.get_dummies(data['Year'])\n",
    "    \n",
    "    if weighted:\n",
    "        y = data.weighted_lnrate\n",
    "    else:\n",
    "        y = data.lnrate\n",
    "        \n",
    "    if lagged:\n",
    "        Year_dum = Year_dum.drop(1999, axis = 1)\n",
    "        X = X.dropna(axis = 0, how = 'any')\n",
    "        y = y[data.Year != 1999]\n",
    "                           \n",
    "    X = X.join([Year_dum, State_dum])\n",
    "                           \n",
    "    return sm.OLS(y, X)\n",
    "\n",
    "def cluster_robust_se(data, model, lagged=False):\n",
    "    lag = int(lagged)\n",
    "        \n",
    "    cluster = np.array(range(len(data.State.unique())) * (len(data.Year.unique()) - lag))\n",
    "    cluster.sort()\n",
    "    \n",
    "    cov_clus = sm.stats.sandwich_covariance.cov_cluster(model, cluster, use_correction = True)\n",
    "    se_clus_robust = sm.stats.sandwich_covariance.se_cov(cov_clus)\n",
    "   \n",
    "    return se_clus_robust\n",
    "\n",
    "def p_val_clus_robust(model, se_clus_robust):\n",
    "    p = stats.t.sf(np.abs(model.params / se_clus_robust), model.df_resid - 1) * 2\n",
    "    \n",
    "    return p\n",
    "\n",
    "##Creating coefficient table with cluster robust standard errors and p-values for treatment variable by model\n",
    "def model_table_results(model, se, p):\n",
    "    d = {'Coefficient': pd.Series(model.params.index),\n",
    "         'Estimate': pd.Series(model.params.values),\n",
    "         'Cluster_Robust SE': pd.Series(se),\n",
    "         'p-value': pd.Series(p)}\n",
    "    \n",
    "    return pd.DataFrame(d)[['Coefficient', 'Estimate', 'Cluster_Robust SE', 'p-value']]"
   ]
  },
  {
   "cell_type": "code",
   "execution_count": 57,
   "metadata": {
    "collapsed": true
   },
   "outputs": [],
   "source": [
    "def run(data, regressors, lagged=False):\n",
    "    \n",
    "    model = did_model(data, regressors, lagged).fit()\n",
    "    wmodel = did_model(data, regressors, lagged, weighted = True).fit()\n",
    "    \n",
    "    model_clus_se = cluster_robust_se(data, model, lagged)\n",
    "    wmodel_clus_se = cluster_robust_se(data, wmodel, lagged)\n",
    "    \n",
    "    p = p_val_clus_robust(model, model_clus_se)\n",
    "    wp = p_val_clus_robust(wmodel, wmodel_clus_se)\n",
    "    \n",
    "    table = model_table_results(model, model_clus_se, p)\n",
    "    wtable = model_table_results(wmodel, wmodel_clus_se, wp)\n",
    "    \n",
    "    return table, wtable"
   ]
  },
  {
   "cell_type": "code",
   "execution_count": 58,
   "metadata": {
    "collapsed": false
   },
   "outputs": [],
   "source": [
    "reg0, wreg0 = run(data18, ['Treatment'])\n",
    "reg1, wreg1 = run(data18, ['Treatment', 'lnunemp'])\n",
    "reg2, wreg2 = run(data18, ['Treatment', 'lnunemp', 'lnunemp_lag'], lagged = True)\n",
    "reg3, wreg3 = run(data18, ['Treatment', 'lnunemp', 'lninc_cap'])\n",
    "reg4, wreg4 = run(data18, ['Treatment', 'lnunemp', 'lninc_cap', 'lnunemp_lag'], lagged = True)"
   ]
  },
  {
   "cell_type": "code",
   "execution_count": 59,
   "metadata": {
    "collapsed": false
   },
   "outputs": [],
   "source": [
    "court0, wcourt0 = run(court18, ['Treatment'])\n",
    "court1, wcourt1 = run(court18, ['Treatment', 'lnunemp'])\n",
    "court2, wcourt2 = run(court18, ['Treatment', 'lnunemp', 'lnunemp_lag'], lagged = True)\n",
    "court3, wcourt3 = run(court18, ['Treatment', 'lnunemp', 'lninc_cap'])\n",
    "court4, wcourt4 = run(court18, ['Treatment', 'lnunemp', 'lninc_cap', 'lnunemp_lag'], lagged = True)"
   ]
  },
  {
   "cell_type": "code",
   "execution_count": 85,
   "metadata": {
    "collapsed": false
   },
   "outputs": [],
   "source": [
    "def aggregate_models(model_list):\n",
    "    \n",
    "    model_index = ['Model 0', 'Model 1', 'Model 2', 'Model 3', 'Model 4']\n",
    "    \n",
    "    estimates = []\n",
    "    std_errors = []\n",
    "    p_vals = []\n",
    "\n",
    "    for model in model_list:\n",
    "        estimates.append(model.Estimate[0])\n",
    "        std_errors.append(model['Cluster_Robust SE'][0])\n",
    "        p_vals.append(model['p-value'][0])\n",
    "    \n",
    "    d = {'Treatment Coeff Estimate': pd.Series(estimates, index = model_index),\n",
    "         'Cluster_Robust SE': pd.Series(std_errors, index = model_index),\n",
    "         'p-value': pd.Series(p_vals, index = model_index)}\n",
    "    \n",
    "    return pd.DataFrame(d)[['Treatment Estimate', 'Cluster_Robust SE', 'p-value']]\n"
   ]
  },
  {
   "cell_type": "code",
   "execution_count": 86,
   "metadata": {
    "collapsed": false
   },
   "outputs": [
    {
     "data": {
      "text/html": [
       "<div>\n",
       "<table border=\"1\" class=\"dataframe\">\n",
       "  <thead>\n",
       "    <tr style=\"text-align: right;\">\n",
       "      <th></th>\n",
       "      <th>Treatment Estimate</th>\n",
       "      <th>Cluster_Robust SE</th>\n",
       "      <th>p-value</th>\n",
       "    </tr>\n",
       "  </thead>\n",
       "  <tbody>\n",
       "    <tr>\n",
       "      <th>Model 0</th>\n",
       "      <td>-0.042321</td>\n",
       "      <td>0.033953</td>\n",
       "      <td>0.212986</td>\n",
       "    </tr>\n",
       "    <tr>\n",
       "      <th>Model 1</th>\n",
       "      <td>-0.042214</td>\n",
       "      <td>0.033624</td>\n",
       "      <td>0.209706</td>\n",
       "    </tr>\n",
       "    <tr>\n",
       "      <th>Model 2</th>\n",
       "      <td>-0.044607</td>\n",
       "      <td>0.034161</td>\n",
       "      <td>0.192060</td>\n",
       "    </tr>\n",
       "    <tr>\n",
       "      <th>Model 3</th>\n",
       "      <td>-0.037793</td>\n",
       "      <td>0.032027</td>\n",
       "      <td>0.238372</td>\n",
       "    </tr>\n",
       "    <tr>\n",
       "      <th>Model 4</th>\n",
       "      <td>-0.039577</td>\n",
       "      <td>0.032406</td>\n",
       "      <td>0.222397</td>\n",
       "    </tr>\n",
       "  </tbody>\n",
       "</table>\n",
       "</div>"
      ],
      "text/plain": [
       "         Treatment Estimate  Cluster_Robust SE   p-value\n",
       "Model 0           -0.042321           0.033953  0.212986\n",
       "Model 1           -0.042214           0.033624  0.209706\n",
       "Model 2           -0.044607           0.034161  0.192060\n",
       "Model 3           -0.037793           0.032027  0.238372\n",
       "Model 4           -0.039577           0.032406  0.222397"
      ]
     },
     "execution_count": 86,
     "metadata": {},
     "output_type": "execute_result"
    }
   ],
   "source": [
    "#Table I: Unweighted observations with all data\n",
    "aggregate_models([reg0, reg1, reg2, reg3, reg4])"
   ]
  },
  {
   "cell_type": "code",
   "execution_count": 87,
   "metadata": {
    "collapsed": false
   },
   "outputs": [
    {
     "data": {
      "text/html": [
       "<div>\n",
       "<table border=\"1\" class=\"dataframe\">\n",
       "  <thead>\n",
       "    <tr style=\"text-align: right;\">\n",
       "      <th></th>\n",
       "      <th>Treatment Estimate</th>\n",
       "      <th>Cluster_Robust SE</th>\n",
       "      <th>p-value</th>\n",
       "    </tr>\n",
       "  </thead>\n",
       "  <tbody>\n",
       "    <tr>\n",
       "      <th>Model 0</th>\n",
       "      <td>-0.002325</td>\n",
       "      <td>0.000731</td>\n",
       "      <td>0.001520</td>\n",
       "    </tr>\n",
       "    <tr>\n",
       "      <th>Model 1</th>\n",
       "      <td>-0.002307</td>\n",
       "      <td>0.000722</td>\n",
       "      <td>0.001464</td>\n",
       "    </tr>\n",
       "    <tr>\n",
       "      <th>Model 2</th>\n",
       "      <td>-0.002394</td>\n",
       "      <td>0.000773</td>\n",
       "      <td>0.002023</td>\n",
       "    </tr>\n",
       "    <tr>\n",
       "      <th>Model 3</th>\n",
       "      <td>-0.002143</td>\n",
       "      <td>0.000695</td>\n",
       "      <td>0.002125</td>\n",
       "    </tr>\n",
       "    <tr>\n",
       "      <th>Model 4</th>\n",
       "      <td>-0.002232</td>\n",
       "      <td>0.000747</td>\n",
       "      <td>0.002892</td>\n",
       "    </tr>\n",
       "  </tbody>\n",
       "</table>\n",
       "</div>"
      ],
      "text/plain": [
       "         Treatment Estimate  Cluster_Robust SE   p-value\n",
       "Model 0           -0.002325           0.000731  0.001520\n",
       "Model 1           -0.002307           0.000722  0.001464\n",
       "Model 2           -0.002394           0.000773  0.002023\n",
       "Model 3           -0.002143           0.000695  0.002125\n",
       "Model 4           -0.002232           0.000747  0.002892"
      ]
     },
     "execution_count": 87,
     "metadata": {},
     "output_type": "execute_result"
    }
   ],
   "source": [
    "#Table II: Weighted observations with all data\n",
    "aggregate_models([wreg0, wreg1, wreg2, wreg3, wreg4])"
   ]
  },
  {
   "cell_type": "code",
   "execution_count": 88,
   "metadata": {
    "collapsed": false
   },
   "outputs": [
    {
     "data": {
      "text/html": [
       "<div>\n",
       "<table border=\"1\" class=\"dataframe\">\n",
       "  <thead>\n",
       "    <tr style=\"text-align: right;\">\n",
       "      <th></th>\n",
       "      <th>Treatment Estimate</th>\n",
       "      <th>Cluster_Robust SE</th>\n",
       "      <th>p-value</th>\n",
       "    </tr>\n",
       "  </thead>\n",
       "  <tbody>\n",
       "    <tr>\n",
       "      <th>Model 0</th>\n",
       "      <td>-0.130982</td>\n",
       "      <td>0.033070</td>\n",
       "      <td>0.000090</td>\n",
       "    </tr>\n",
       "    <tr>\n",
       "      <th>Model 1</th>\n",
       "      <td>-0.123496</td>\n",
       "      <td>0.034084</td>\n",
       "      <td>0.000331</td>\n",
       "    </tr>\n",
       "    <tr>\n",
       "      <th>Model 2</th>\n",
       "      <td>-0.114384</td>\n",
       "      <td>0.045779</td>\n",
       "      <td>0.012931</td>\n",
       "    </tr>\n",
       "    <tr>\n",
       "      <th>Model 3</th>\n",
       "      <td>-0.114422</td>\n",
       "      <td>0.037065</td>\n",
       "      <td>0.002173</td>\n",
       "    </tr>\n",
       "    <tr>\n",
       "      <th>Model 4</th>\n",
       "      <td>-0.102578</td>\n",
       "      <td>0.045392</td>\n",
       "      <td>0.024454</td>\n",
       "    </tr>\n",
       "  </tbody>\n",
       "</table>\n",
       "</div>"
      ],
      "text/plain": [
       "         Treatment Estimate  Cluster_Robust SE   p-value\n",
       "Model 0           -0.130982           0.033070  0.000090\n",
       "Model 1           -0.123496           0.034084  0.000331\n",
       "Model 2           -0.114384           0.045779  0.012931\n",
       "Model 3           -0.114422           0.037065  0.002173\n",
       "Model 4           -0.102578           0.045392  0.024454"
      ]
     },
     "execution_count": 88,
     "metadata": {},
     "output_type": "execute_result"
    }
   ],
   "source": [
    "#Table III: Unweighted observations with court data\n",
    "aggregate_models([court0, court1, court2, court3, court4])"
   ]
  },
  {
   "cell_type": "code",
   "execution_count": 89,
   "metadata": {
    "collapsed": false
   },
   "outputs": [
    {
     "data": {
      "text/html": [
       "<div>\n",
       "<table border=\"1\" class=\"dataframe\">\n",
       "  <thead>\n",
       "    <tr style=\"text-align: right;\">\n",
       "      <th></th>\n",
       "      <th>Treatment Estimate</th>\n",
       "      <th>Cluster_Robust SE</th>\n",
       "      <th>p-value</th>\n",
       "    </tr>\n",
       "  </thead>\n",
       "  <tbody>\n",
       "    <tr>\n",
       "      <th>Model 0</th>\n",
       "      <td>-0.003705</td>\n",
       "      <td>0.000704</td>\n",
       "      <td>2.423457e-07</td>\n",
       "    </tr>\n",
       "    <tr>\n",
       "      <th>Model 1</th>\n",
       "      <td>-0.003569</td>\n",
       "      <td>0.000703</td>\n",
       "      <td>6.129624e-07</td>\n",
       "    </tr>\n",
       "    <tr>\n",
       "      <th>Model 2</th>\n",
       "      <td>-0.003551</td>\n",
       "      <td>0.000956</td>\n",
       "      <td>2.392365e-04</td>\n",
       "    </tr>\n",
       "    <tr>\n",
       "      <th>Model 3</th>\n",
       "      <td>-0.003039</td>\n",
       "      <td>0.000612</td>\n",
       "      <td>1.027507e-06</td>\n",
       "    </tr>\n",
       "    <tr>\n",
       "      <th>Model 4</th>\n",
       "      <td>-0.003087</td>\n",
       "      <td>0.000851</td>\n",
       "      <td>3.305485e-04</td>\n",
       "    </tr>\n",
       "  </tbody>\n",
       "</table>\n",
       "</div>"
      ],
      "text/plain": [
       "         Treatment Estimate  Cluster_Robust SE       p-value\n",
       "Model 0           -0.003705           0.000704  2.423457e-07\n",
       "Model 1           -0.003569           0.000703  6.129624e-07\n",
       "Model 2           -0.003551           0.000956  2.392365e-04\n",
       "Model 3           -0.003039           0.000612  1.027507e-06\n",
       "Model 4           -0.003087           0.000851  3.305485e-04"
      ]
     },
     "execution_count": 89,
     "metadata": {},
     "output_type": "execute_result"
    }
   ],
   "source": [
    "#Table IV: Weighted observations with court data\n",
    "aggregate_models([wcourt0, wcourt1, wcourt2, wcourt3, wcourt4])"
   ]
  }
 ],
 "metadata": {
  "kernelspec": {
   "display_name": "Python 2",
   "language": "python",
   "name": "python2"
  },
  "language_info": {
   "codemirror_mode": {
    "name": "ipython",
    "version": 2
   },
   "file_extension": ".py",
   "mimetype": "text/x-python",
   "name": "python",
   "nbconvert_exporter": "python",
   "pygments_lexer": "ipython2",
   "version": "2.7.12"
  }
 },
 "nbformat": 4,
 "nbformat_minor": 0
}
